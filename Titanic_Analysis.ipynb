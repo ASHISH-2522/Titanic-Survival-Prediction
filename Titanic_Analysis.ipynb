{
 "cells": [
  {
   "cell_type": "markdown",
   "id": "9cfba6cc",
   "metadata": {},
   "source": [
    "# Titanic Survival Prediction\n",
    "\n",
    "This notebook demonstrates and compares two machine learning models — **Logistic Regression** and **Random Forest Classifier** — on the Titanic dataset. We'll walk through the process of data preprocessing, model building, evaluation, and draw a conclusion on the better approach."
   ]
  },
  {
   "cell_type": "code",
   "execution_count": null,
   "id": "67c06d86",
   "metadata": {},
   "outputs": [],
   "source": [
    "import numpy as np\n",
    "import pandas as pd\n",
    "import matplotlib.pyplot as plt\n",
    "import seaborn as sns\n",
    "from sklearn.model_selection import train_test_split\n",
    "from sklearn.preprocessing import LabelEncoder\n",
    "from sklearn.linear_model import LogisticRegression\n",
    "from sklearn.ensemble import RandomForestClassifier\n",
    "from sklearn.metrics import classification_report, confusion_matrix, accuracy_score\n",
    "import warnings\n",
    "warnings.filterwarnings('ignore')"
   ]
  },
  {
   "cell_type": "markdown",
   "id": "b2122404",
   "metadata": {},
   "source": [
    "## Step 1: Load the Dataset"
   ]
  },
  {
   "cell_type": "code",
   "execution_count": null,
   "id": "891fa11c",
   "metadata": {},
   "outputs": [],
   "source": [
    "df = pd.read_csv('D:/Chaitanya_AIML/titanic.csv')\n",
    "df.head()"
   ]
  },
  {
   "cell_type": "markdown",
   "id": "1d2c386e",
   "metadata": {},
   "source": [
    "## Step 2: Exploratory Data Analysis and Cleaning\n",
    "We'll check for missing values and handle them appropriately."
   ]
  },
  {
   "cell_type": "code",
   "execution_count": null,
   "id": "3cc1889e",
   "metadata": {},
   "outputs": [],
   "source": [
    "# Checking for null values\n",
    "df.isnull().sum()"
   ]
  },
  {
   "cell_type": "code",
   "execution_count": null,
   "id": "bb1582e4",
   "metadata": {},
   "outputs": [],
   "source": [
    "# Fill missing Age with median\n",
    "df['Age'].fillna(df['Age'].median(), inplace=True)\n",
    "# Fill embarked with mode\n",
    "df['Embarked'].fillna(df['Embarked'].mode()[0], inplace=True)\n",
    "# Drop Cabin due to too many missing values\n",
    "df.drop('Cabin', axis=1, inplace=True)"
   ]
  },
  {
   "cell_type": "code",
   "execution_count": null,
   "id": "e08982d0",
   "metadata": {},
   "outputs": [],
   "source": [
    "# Drop irrelevant columns\n",
    "df.drop(['PassengerId', 'Name', 'Ticket'], axis=1, inplace=True)"
   ]
  },
  {
   "cell_type": "code",
   "execution_count": null,
   "id": "b696e694",
   "metadata": {},
   "outputs": [],
   "source": [
    "# Encode categorical variables\n",
    "le = LabelEncoder()\n",
    "df['Sex'] = le.fit_transform(df['Sex'])\n",
    "df['Embarked'] = le.fit_transform(df['Embarked'])"
   ]
  },
  {
   "cell_type": "markdown",
   "id": "38362ebd",
   "metadata": {},
   "source": [
    "## Step 3: Train-Test Split"
   ]
  },
  {
   "cell_type": "code",
   "execution_count": null,
   "id": "f62f6ce0",
   "metadata": {},
   "outputs": [],
   "source": [
    "X = df.drop('Survived', axis=1)\n",
    "y = df['Survived']\n",
    "X_train, X_test, y_train, y_test = train_test_split(X, y, test_size=0.2, random_state=42)"
   ]
  },
  {
   "cell_type": "markdown",
   "id": "44361ddd",
   "metadata": {},
   "source": [
    "## Model 1: Logistic Regression"
   ]
  },
  {
   "cell_type": "code",
   "execution_count": null,
   "id": "70bdfbf6",
   "metadata": {},
   "outputs": [],
   "source": [
    "log_model = LogisticRegression()\n",
    "log_model.fit(X_train, y_train)\n",
    "y_pred_log = log_model.predict(X_test)"
   ]
  },
  {
   "cell_type": "code",
   "execution_count": null,
   "id": "8bd76a61",
   "metadata": {},
   "outputs": [],
   "source": [
    "print('Confusion Matrix:\\n', confusion_matrix(y_test, y_pred_log))\n",
    "print('\\nClassification Report:\\n', classification_report(y_test, y_pred_log))\n",
    "print('Accuracy Score:', accuracy_score(y_test, y_pred_log))"
   ]
  },
  {
   "cell_type": "markdown",
   "id": "0399a1bd",
   "metadata": {},
   "source": [
    "## Model 2: Random Forest Classifier"
   ]
  },
  {
   "cell_type": "code",
   "execution_count": null,
   "id": "b3350f42",
   "metadata": {},
   "outputs": [],
   "source": [
    "rf_model = RandomForestClassifier(n_estimators=100, random_state=42)\n",
    "rf_model.fit(X_train, y_train)\n",
    "y_pred_rf = rf_model.predict(X_test)"
   ]
  },
  {
   "cell_type": "code",
   "execution_count": null,
   "id": "a729c157",
   "metadata": {},
   "outputs": [],
   "source": [
    "print('Confusion Matrix:\\n', confusion_matrix(y_test, y_pred_rf))\n",
    "print('\\nClassification Report:\\n', classification_report(y_test, y_pred_rf))\n",
    "print('Accuracy Score:', accuracy_score(y_test, y_pred_rf))"
   ]
  },
  {
   "cell_type": "markdown",
   "id": "d9990bc8",
   "metadata": {},
   "source": [
    "## Conclusion\n",
    "Both Logistic Regression and Random Forest performed classification on the Titanic dataset. Here's a comparison:\n",
    "\n",
    "- **Logistic Regression** is a linear model that is easy to interpret and suitable for simple relationships.\n",
    "- **Random Forest** is an ensemble model that handles complex data patterns better and often gives higher accuracy.\n",
    "\n",
    "From the results above:\n",
    "- If **Random Forest** gave a higher accuracy and better F1-score, we conclude it performs better for this dataset.\n",
    "- Logistic Regression is still a good baseline model.\n",
    "\n",
    "**Hence, for deployment or production, Random Forest would be the preferred choice due to better predictive performance.**"
   ]
  }
 ],
 "metadata": {},
 "nbformat": 4,
 "nbformat_minor": 5
}
